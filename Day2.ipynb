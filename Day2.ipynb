{
 "cells": [
  {
   "cell_type": "code",
   "execution_count": 1,
   "id": "cbcd989e-442e-45a8-b07e-c5bd73ff8998",
   "metadata": {},
   "outputs": [
    {
     "name": "stdout",
     "output_type": "stream",
     "text": [
      "Hello World\n"
     ]
    }
   ],
   "source": [
    "print('Hello World')"
   ]
  },
  {
   "cell_type": "code",
   "execution_count": 2,
   "id": "9d58b03f-1c5c-40b4-957e-fd202244fbdb",
   "metadata": {},
   "outputs": [
    {
     "name": "stdout",
     "output_type": "stream",
     "text": [
      "My age is : 32\n"
     ]
    }
   ],
   "source": [
    "age=32\n",
    "print(\"My age is :\",age)"
   ]
  },
  {
   "cell_type": "code",
   "execution_count": 4,
   "id": "06b09320-5f4f-4c0a-ab8d-9188ffc52383",
   "metadata": {},
   "outputs": [
    {
     "name": "stdout",
     "output_type": "stream",
     "text": [
      "My age is : 32\n"
     ]
    }
   ],
   "source": [
    "## f string (used for formatting)\n",
    "print(f\"My age is : {age}\")"
   ]
  },
  {
   "cell_type": "code",
   "execution_count": 5,
   "id": "4f3d5c80-b7b4-42e2-a47b-646342d0d9d3",
   "metadata": {},
   "outputs": [
    {
     "name": "stdout",
     "output_type": "stream",
     "text": [
      "My name is Mriganshu and age is 22\n"
     ]
    }
   ],
   "source": [
    "##format()\n",
    "name=\"Mriganshu\"\n",
    "age=22\n",
    "print(\"My name is {} and age is {}\".format(name, age))"
   ]
  },
  {
   "cell_type": "code",
   "execution_count": 7,
   "id": "9ad75bec-df36-49b8-9d4c-c65d18284667",
   "metadata": {},
   "outputs": [
    {
     "name": "stdout",
     "output_type": "stream",
     "text": [
      "My name is Mriganshu and age is 22\n"
     ]
    }
   ],
   "source": [
    "##placeholder (We may have 100 parameters)\n",
    "print(\"My name is {firstname} and age is {firstage}\".format(firstname=name,firstage=age))"
   ]
  },
  {
   "cell_type": "code",
   "execution_count": 11,
   "id": "91d81995-22a1-402f-b7bc-b80433738a4d",
   "metadata": {},
   "outputs": [
    {
     "name": "stdout",
     "output_type": "stream",
     "text": [
      "My age is 22 and I have completed Btech with the name of Mriagnshu Bora\n"
     ]
    }
   ],
   "source": [
    "name=\"Mriagnshu Bora\"\n",
    "age= 22\n",
    "degree=\"Btech\"\n",
    "print(\"My age is {} and I have completed {} with the name of {}\".format(age,degree, name))"
   ]
  },
  {
   "cell_type": "code",
   "execution_count": null,
   "id": "646a81c4-634a-400c-a4b2-f0bf4ecf983f",
   "metadata": {},
   "outputs": [],
   "source": [
    "## Control Flow\n",
    "###Decision making Statements"
   ]
  },
  {
   "cell_type": "code",
   "execution_count": 27,
   "id": "090d8e07-7ef0-4b51-9278-9c7a38949472",
   "metadata": {},
   "outputs": [
    {
     "name": "stdout",
     "output_type": "stream",
     "text": [
      "You are eligible to vote\n"
     ]
    }
   ],
   "source": [
    "## If Statements\n",
    "age = 18\n",
    "if age>=18:print('You are eligible to vote')"
   ]
  },
  {
   "cell_type": "code",
   "execution_count": 14,
   "id": "06fb0c54-7be5-43bb-959b-cc360f271c06",
   "metadata": {},
   "outputs": [
    {
     "name": "stdin",
     "output_type": "stream",
     "text": [
      "Enter the name Mriganshu Bora\n"
     ]
    }
   ],
   "source": [
    "name=input(\"Enter the name\")"
   ]
  },
  {
   "cell_type": "code",
   "execution_count": 15,
   "id": "19302b8b-9616-4e8d-83da-14348b83dc6a",
   "metadata": {},
   "outputs": [
    {
     "data": {
      "text/plain": [
       "'Mriganshu Bora'"
      ]
     },
     "execution_count": 15,
     "metadata": {},
     "output_type": "execute_result"
    }
   ],
   "source": [
    "name"
   ]
  },
  {
   "cell_type": "code",
   "execution_count": 16,
   "id": "78e50df2-9285-4048-b67e-f81f63ddf702",
   "metadata": {},
   "outputs": [
    {
     "name": "stdin",
     "output_type": "stream",
     "text": [
      "Enter your age 22\n"
     ]
    }
   ],
   "source": [
    "age=int(input('Enter your age'))"
   ]
  },
  {
   "cell_type": "code",
   "execution_count": 17,
   "id": "1fac1acb-eb8d-4951-8703-a96208af7f8a",
   "metadata": {},
   "outputs": [
    {
     "data": {
      "text/plain": [
       "22"
      ]
     },
     "execution_count": 17,
     "metadata": {},
     "output_type": "execute_result"
    }
   ],
   "source": [
    "age"
   ]
  },
  {
   "cell_type": "code",
   "execution_count": 18,
   "id": "64e96c89-8ac5-4e3c-8ad3-a06a6e3b49fd",
   "metadata": {},
   "outputs": [
    {
     "data": {
      "text/plain": [
       "int"
      ]
     },
     "execution_count": 18,
     "metadata": {},
     "output_type": "execute_result"
    }
   ],
   "source": [
    "type(age)"
   ]
  },
  {
   "cell_type": "code",
   "execution_count": 24,
   "id": "9b2f3d02-a55f-4546-800b-77006662cce2",
   "metadata": {},
   "outputs": [
    {
     "name": "stdin",
     "output_type": "stream",
     "text": [
      "Enter your age 16\n"
     ]
    },
    {
     "name": "stdout",
     "output_type": "stream",
     "text": [
      "you are not\n"
     ]
    }
   ],
   "source": [
    "##Task\n",
    "age=int(input('Enter your age'))\n",
    "if age>=18 and age<=45:\n",
    "    print('You are young blood')\n",
    "else:\n",
    "    print('you are not')"
   ]
  },
  {
   "cell_type": "code",
   "execution_count": 26,
   "id": "332fd44c-5b90-4a72-8010-b496c930d3f8",
   "metadata": {},
   "outputs": [
    {
     "name": "stdin",
     "output_type": "stream",
     "text": [
      "input the product price 4000\n"
     ]
    },
    {
     "name": "stdout",
     "output_type": "stream",
     "text": [
      "The price of the product is 3200.0\n"
     ]
    }
   ],
   "source": [
    "price=int(input('input the product price'))\n",
    "if price>1000:\n",
    "          print(\"The price of the product is {}\". format(price*0.8))\n",
    "else:\n",
    "          print(\"The print of the product is {}\".format(price*0.7))\n",
    "        "
   ]
  },
  {
   "cell_type": "raw",
   "id": "49986870-5c57-4fdf-9284-233b158b4911",
   "metadata": {},
   "source": [
    "LOOP STATEMENTS\n",
    "\n",
    "1. while loop\n",
    "2. for loop\n",
    "3. Nested Loop\n",
    "4. Loop Control(break, continue, pass)\n"
   ]
  },
  {
   "cell_type": "code",
   "execution_count": 28,
   "id": "94d34479-48bd-4327-beac-526953c23967",
   "metadata": {},
   "outputs": [
    {
     "name": "stdout",
     "output_type": "stream",
     "text": [
      "26\n",
      "27\n",
      "28\n",
      "29\n",
      "30\n",
      "31\n",
      "32\n",
      "33\n",
      "34\n",
      "35\n",
      "36\n",
      "37\n",
      "38\n",
      "39\n",
      "40\n",
      "41\n",
      "42\n",
      "43\n",
      "44\n",
      "45\n",
      "46\n",
      "47\n",
      "48\n",
      "49\n",
      "50\n",
      "51\n",
      "52\n",
      "53\n",
      "54\n",
      "55\n",
      "56\n",
      "57\n",
      "58\n",
      "59\n",
      "60\n",
      "61\n",
      "It's time for retirement\n"
     ]
    }
   ],
   "source": [
    "#while loop\n",
    "joining_age=25\n",
    "while joining_age<=60:\n",
    "    joining_age=joining_age+1\n",
    "    print(joining_age)\n",
    "else:\n",
    "    print(\"It's time for retirement\")"
   ]
  },
  {
   "cell_type": "code",
   "execution_count": null,
   "id": "dea654d0-4f7f-4cea-91d0-8787494e676b",
   "metadata": {},
   "outputs": [],
   "source": [
    "number=int(1,2,3,4,5,6,7)"
   ]
  },
  {
   "cell_type": "code",
   "execution_count": 43,
   "id": "58ba68c5-032f-44e3-9a74-2bc89f3c9ab9",
   "metadata": {},
   "outputs": [
    {
     "name": "stdout",
     "output_type": "stream",
     "text": [
      "1\n",
      "2\n",
      "3\n",
      "4\n",
      "5\n",
      "6\n",
      "7\n"
     ]
    }
   ],
   "source": [
    "number=[1,2,3,4,5,6,7]\n",
    "for i in number:\n",
    "    print(i)"
   ]
  },
  {
   "cell_type": "code",
   "execution_count": 30,
   "id": "67aa3626-b47d-4a66-899f-92498e4d8caf",
   "metadata": {},
   "outputs": [
    {
     "name": "stdout",
     "output_type": "stream",
     "text": [
      "1\n",
      "2\n",
      "3\n",
      "4\n",
      "5\n"
     ]
    }
   ],
   "source": [
    "#range\n",
    "for i in range(1,6):\n",
    "    print(i)"
   ]
  },
  {
   "cell_type": "code",
   "execution_count": 32,
   "id": "aa642f82-ef81-4006-b0b1-0a4d54437ce8",
   "metadata": {},
   "outputs": [
    {
     "name": "stdout",
     "output_type": "stream",
     "text": [
      "1\n",
      "3\n",
      "5\n",
      "7\n",
      "9\n",
      "11\n"
     ]
    }
   ],
   "source": [
    "for i in range(1,12,2):\n",
    "    print(i)"
   ]
  },
  {
   "cell_type": "code",
   "execution_count": 33,
   "id": "d82524fb-a2d7-40fa-8fe1-70cc332fd10f",
   "metadata": {},
   "outputs": [
    {
     "name": "stdout",
     "output_type": "stream",
     "text": [
      "****************************"
     ]
    }
   ],
   "source": [
    "#Nested Loops\n",
    "n=7\n",
    "\n",
    "for i in range(0,n):\n",
    "    for j in range(0, i+1):\n",
    "        print(\"*\",end=\"\")"
   ]
  },
  {
   "cell_type": "code",
   "execution_count": 34,
   "id": "65ede26f-aa9a-40a4-9d8d-0cc564298955",
   "metadata": {},
   "outputs": [
    {
     "name": "stdout",
     "output_type": "stream",
     "text": [
      "*\n",
      "**\n",
      "***\n",
      "****\n",
      "*****\n",
      "******\n",
      "*******\n"
     ]
    }
   ],
   "source": [
    "#Nested Loops\n",
    "n=7\n",
    "\n",
    "for i in range(0,n):\n",
    "    for j in range(0, i+1):\n",
    "        print(\"*\",end=\"\")\n",
    "    print(\"\\r\")"
   ]
  },
  {
   "cell_type": "code",
   "execution_count": 46,
   "id": "7e320abf-e706-48f6-8c95-9397aee24244",
   "metadata": {},
   "outputs": [
    {
     "name": "stdout",
     "output_type": "stream",
     "text": [
      "Mango\n",
      "cherry\n",
      "Apple\n",
      "Papaya\n"
     ]
    }
   ],
   "source": [
    "##Loop Controls\n",
    "##Break and Continue\n",
    "fruits_list = [\"Mango\", \"cherry\",\"Apple\",\"Papaya\"]\n",
    "\n",
    "for i in fruits_list:\n",
    "    print(i)"
   ]
  },
  {
   "cell_type": "code",
   "execution_count": 47,
   "id": "d77df243-0dfc-4ad8-b4ba-93a992e88610",
   "metadata": {},
   "outputs": [
    {
     "name": "stdout",
     "output_type": "stream",
     "text": [
      "Mango\n",
      "cherry\n",
      "The fruit is apple\n"
     ]
    }
   ],
   "source": [
    "for i in fruits_list:\n",
    "    if i==\"Apple\":\n",
    "        print(\"The fruit is apple\")\n",
    "        break\n",
    "    print(i)"
   ]
  },
  {
   "cell_type": "code",
   "execution_count": 48,
   "id": "b50dae4d-390a-495f-8716-417e7b69a59b",
   "metadata": {},
   "outputs": [
    {
     "name": "stdout",
     "output_type": "stream",
     "text": [
      "Mango\n",
      "cherry\n",
      "The fruit is apple\n",
      "Apple\n",
      "Papaya\n"
     ]
    }
   ],
   "source": [
    "for i in fruits_list:\n",
    "    if i==\"Apple\":\n",
    "        print(\"The fruit is apple\")\n",
    "        pass\n",
    "    print(i)"
   ]
  },
  {
   "cell_type": "code",
   "execution_count": 49,
   "id": "f1b0e2c7-0548-4755-93d8-861bded517c6",
   "metadata": {},
   "outputs": [
    {
     "name": "stdout",
     "output_type": "stream",
     "text": [
      "Mango\n",
      "cherry\n",
      "The fruit is apple\n",
      "Papaya\n"
     ]
    }
   ],
   "source": [
    "for i in fruits_list:\n",
    "    if i==\"Apple\":\n",
    "        print(\"The fruit is apple\")\n",
    "        continue\n",
    "    print(i)"
   ]
  },
  {
   "cell_type": "code",
   "execution_count": null,
   "id": "5dd9f49b-9409-4ff9-b965-d04b0befed42",
   "metadata": {},
   "outputs": [],
   "source": []
  }
 ],
 "metadata": {
  "kernelspec": {
   "display_name": "Python 3 (ipykernel)",
   "language": "python",
   "name": "python3"
  },
  "language_info": {
   "codemirror_mode": {
    "name": "ipython",
    "version": 3
   },
   "file_extension": ".py",
   "mimetype": "text/x-python",
   "name": "python",
   "nbconvert_exporter": "python",
   "pygments_lexer": "ipython3",
   "version": "3.10.8"
  }
 },
 "nbformat": 4,
 "nbformat_minor": 5
}
